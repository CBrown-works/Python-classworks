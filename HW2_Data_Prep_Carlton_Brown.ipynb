{
 "cells": [
  {
   "cell_type": "markdown",
   "metadata": {},
   "source": [
    "# Homework Assignment 2: Data Prep\n",
    "In this homework assignment, you will continue your exploration of the [SWAN-SF Dataset](https://doi.org/10.7910/DVN/EBCFKM), described in the paper found [here](https://doi.org/10.1038/s41597-020-0548-x).\n",
    "\n",
    "\n",
    "This assignment will have you explore the cardinalities, number of missing values, detect outliers, handle missing values and outliers, and create data quality report for original and cleaned dataset. Additionally, you will be asked to provide documentation for your functions."
   ]
  },
  {
   "cell_type": "markdown",
   "metadata": {},
   "source": [
    "## Step 1: Downloading the Data\n",
    "\n",
    "This assignment will only be using [Partition 1](https://dataverse.harvard.edu/api/access/datafile/:persistentId?persistentId=doi:10.7910/DVN/EBCFKM/BMXYCB). Recall that in Homework 1 we started to construct the analytics base table for our [SWAN-SF Dataset](https://doi.org/10.7910/DVN/EBCFKM). In that assignment, we read the data from the two subdirectories, __FL__ and __NF__, of the __partition1__ direcotry. These two subdirectories represented the two classes of our target feature in the solar flare prediction problem we will be attempting to solve this semester. We then processed these samples of multivariate time series to construct descriptive features for each sample, and then placed them into our analytics base table.\n",
    "\n",
    "In this assignment, you will be utilizing a set of extracted descriptive features much like what you were asked to construct in Homework 1. However, this dataset contains many more extracted features than you were asked to compute for Homework 1 (>800), so we need to explore the data to find data quality issues and identify ways to address these issues. Below are links to the full extracted feature dataset for partition 1 and a toy dataset to use for testing you functions.\n",
    "\n",
    "__Note:__ Since the full dataset, and multiple copies of partially processed intermediary results, tend to take up a bit of space, you can use the toy dataset to implement and test your code. You may need to edit the data to fully test each of the requirements, but that is left as an exercise for the student. The full partition dataset is only included for those who wish to work with it once they have their code implemented. \n",
    "\n",
    "- [Full Partition 1 feature dataset](http://dmlab.cs.gsu.edu/solar/data/partition1ExtractedFeatures.csv)\n",
    "- [Toy Partition 1 feature dataset](http://dmlab.cs.gsu.edu/solar/data/toy_partition1ExtractedFeatures.csv)\n",
    "\n",
    "Now that you have the extracted features csv files, you will load that data into a Pandas DataFrame using the [pandas.read_csv](https://pandas.pydata.org/pandas-docs/stable/reference/api/pandas.read_csv.html) method.  \n"
   ]
  },
  {
   "cell_type": "code",
   "execution_count": 594,
   "metadata": {},
   "outputs": [],
   "source": [
    "import os\n",
    "import pandas as pd\n",
    "from pandas import DataFrame \n",
    "import numpy as np"
   ]
  },
  {
   "cell_type": "markdown",
   "metadata": {},
   "source": [
    "### Read the dataset"
   ]
  },
  {
   "cell_type": "code",
   "execution_count": 595,
   "metadata": {},
   "outputs": [],
   "source": [
    "data_dir = '/Users/carltonbrown/Downloads/partition1/'\n",
    "data_file = 'partition1ExtractedFeatures.csv'\n",
    "#/Users/carltonbrown/Downloads/partition1/partition1ExtractedFeatures.csv.download"
   ]
  },
  {
   "cell_type": "code",
   "execution_count": 596,
   "metadata": {},
   "outputs": [],
   "source": [
    "abt = pd.read_csv(os.path.join(data_dir, data_file), index_col=0)"
   ]
  },
  {
   "cell_type": "markdown",
   "metadata": {},
   "source": [
    "### Q1 (20 points)\n",
    "\n",
    "Write a function to extract the various pieces of a data quality report, for a specific attribute, and return a dataframe with this information.\n",
    "\n",
    " * 'Feature Name': Contains the time series statistical feature name\n",
    " \n",
    " * 'Cardinality': Contains the count of unique values for the feature\n",
    "            \n",
    " * 'Non-null Count': Contains the number of non-null entries for the feature\n",
    "            \n",
    " * 'Null Count': Contains the number of null or missing entries for the feature\n",
    "            \n",
    " * 'Min': Contains the minimum value of the feature (Without considering the null or nan value)\n",
    " \n",
    " * '25th': Contains the first quartile (25%) of the feature values (Without considering the null/nan value)\n",
    " \n",
    " * 'Mean': Contains the mean of the feature values (Without considering the null/nan value)\n",
    " \n",
    " * '50th': Contains the median of the feature values (Without considering the null/nan value)\n",
    "            \n",
    " * '75th': Contains the third quartile (75%) of the feature values (Without considering the null/nan value)\n",
    " \n",
    " * 'Max': Contains the maximum value of the feature (Without considering the null/nan value),\n",
    "            \n",
    " * 'Std. Dev': Contains the standard deviation of the feature (Without considering the null/nan value)\n",
    " \n",
    "In addition to the values above, you should identify the number of upper and lower outliers using the $val < Q1-1.5IQR$ and $val > Q3+1.5IQR$ outlier identification method. These added features should be called `Outlier Count Low` and `Outliers Count High` respectively.\n",
    "\n",
    "\n",
    " \n",
    " Some useful functions for this can be found at:\n",
    " \n",
    " * [Numpy.percentile](https://numpy.org/doc/stable/reference/generated/numpy.percentile.html)\n",
    " \n",
    " * [pandas.isna](https://pandas.pydata.org/pandas-docs/stable/reference/api/pandas.isna.html)\n",
    " \n",
    " * [Numpy.mean](https://numpy.org/doc/stable/reference/generated/numpy.mean.html)\n",
    " \n",
    " * [Numpy.std](https://numpy.org/doc/stable/reference/generated/numpy.std.html)\n",
    " "
   ]
  },
  {
   "cell_type": "code",
   "execution_count": 597,
   "metadata": {},
   "outputs": [],
   "source": [
    "def calc_summary_for(feature_name:str, data:DataFrame) -> DataFrame:\n",
    "    \"\"\"\n",
    "    this function extracts the various pieces of a data quality report, for a specific attribute, and returns a dataframe with this information.\n",
    "    \n",
    "    Parameters\n",
    "    ----------\n",
    "\n",
    "    data : DataFrame\n",
    "        an analytical base table dataframe or general dataframe used to create a the quality report to investigate the data\n",
    "    Output\n",
    "    ----------\n",
    "    returns various pieces of a data quality report, for a specific attribute in a dataframe.\n",
    "    \"\"\"\n",
    "    summary_feature_names = ['Feature Name', 'Cardinality', 'Non-null Count', 'Null Count', 'Min', '25th', 'Mean', \n",
    "                             '50th', '75th', 'Max', 'Std. Dev','Outlier Count Low', 'Outlier Count High']\n",
    "    #print(abt)\n",
    "    QRDF = pd.DataFrame(columns =summary_feature_names)\n",
    "    NewData =dict.fromkeys(summary_feature_names)\n",
    "    \n",
    "    \n",
    "    NewData['Feature Name']=feature_name\n",
    "    NewData['Cardinality']=abt[feature_name].nunique()\n",
    "    NewData['Non-null Count']=abt[feature_name].count()\n",
    "    NewData['Null Count']=abt[feature_name].isna().sum()\n",
    "    NewData['Min']=abt[feature_name].to_numpy().min()\n",
    "    NewData['25th']=np.percentile(abt[feature_name].to_numpy(), 25)\n",
    "    NewData['Mean']=np.mean(abt[feature_name].to_numpy())\n",
    "    NewData['50th']=np.percentile(abt[feature_name].to_numpy(), 50)\n",
    "    NewData['75th']=np.percentile(abt[feature_name].to_numpy(), 75)\n",
    "    NewData['Max']=abt[feature_name].to_numpy().max()\n",
    "    NewData['Std. Dev']=np.std(abt[feature_name].to_numpy())\n",
    "    q1 = abt[feature_name].quantile(0.25)\n",
    "    q3 = abt[feature_name].quantile(0.75)\n",
    "    iqr =  q3 - q1\n",
    "    NewData['Outlier Count Low']=abt[feature_name].lt(q1-(1.5 *iqr)).sum()\n",
    "    NewData['Outlier Count High']=abt[feature_name].gt(q3+(1.5 *iqr)).sum()\n",
    "    values = NewData.values()\n",
    "    QRDF.loc[len(QRDF)] =list(values)\n",
    "    \n",
    "\n",
    "    \n",
    "\n",
    "    return QRDF\n",
    "    pass\n"
   ]
  },
  {
   "cell_type": "code",
   "execution_count": 598,
   "metadata": {},
   "outputs": [
    {
     "name": "stdout",
     "output_type": "stream",
     "text": [
      "  Feature Name Cardinality Non-null Count Null Count  Min       25th  \\\n",
      "0  TOTUSJH_min       30165          73492          0  0.0  29.756125   \n",
      "\n",
      "         Mean        50th        75th          Max    Std. Dev  \\\n",
      "0  396.697968  110.011893  418.614528  5680.232811  694.293786   \n",
      "\n",
      "  Outlier Count Low Outlier Count High  \n",
      "0                 0               9014  \n"
     ]
    }
   ],
   "source": [
    "summary_TOTUSJH_min = calc_summary_for('TOTUSJH_min', abt)\n",
    "print(summary_TOTUSJH_min)"
   ]
  },
  {
   "cell_type": "markdown",
   "metadata": {},
   "source": [
    "### Q2 (20 points)\n",
    "Using what you produced to answere Q1, you should now write a function to construct the data quality report for all of the numerical features of our dataset.  You should loop over all of the features in the analytics base table represented by the input feature dataset files from partition 1, with the exception of the first column (this is the index column if you read the file correctly), and the `id`, `lab`, `st`, and `et` columns.  \n",
    "\n",
    "Your output from this function will be a DataFrame that has 1 row for each feature. "
   ]
  },
  {
   "cell_type": "code",
   "execution_count": 599,
   "metadata": {},
   "outputs": [],
   "source": [
    "def construct_quality_report(data:DataFrame) -> DataFrame:\n",
    "    \"\"\"\n",
    "    constructs a data quality report for all of the numerical features in a given dataset.\n",
    "    \n",
    "    Parameters\n",
    "    ----------\n",
    "    \n",
    "        \n",
    "    data : DataFrame\n",
    "        an analytical base table dataframe or general dataframe used to create a the quality report to investigate the data\n",
    "    Output\n",
    "    ----------\n",
    "    returns a summary table dataframe for all of the numerical features in a given dataset.\n",
    "    \"\"\"\n",
    "    excluded_columns = ['id', 'lab', 'st', 'et']\n",
    "    \n",
    "    summary_feature_names = ['Feature Name', 'Cardinality', 'Non-null Count', 'Null Count', 'Min', '25th', 'Mean', \n",
    "                             '50th', '75th', 'Max', 'Std. Dev','Outlier Count Low', 'Outlier Count High']\n",
    "    QRDF = pd.DataFrame(columns =summary_feature_names)\n",
    "    NewData =dict.fromkeys(summary_feature_names)\n",
    "    #count\n",
    "    #print(abt.columns)\n",
    "    #abt.pop('lab')\n",
    "    \n",
    "    for x in abt.columns:\n",
    "        \n",
    "        if x in excluded_columns:\n",
    "            continue\n",
    "        NewData['Feature Name']=x\n",
    "        NewData['Cardinality']=abt[x].nunique()\n",
    "        NewData['Non-null Count']=abt[x].count()\n",
    "        NewData['Null Count']=abt[x].isna().sum()\n",
    "        NewData['Min']=abt[x].to_numpy().min()\n",
    "        NewData['25th']=np.percentile(abt[x].to_numpy(), 25)\n",
    "        NewData['Mean']=np.mean(abt[x].to_numpy())\n",
    "        NewData['50th']=np.percentile(abt[x].to_numpy(), 50)\n",
    "        NewData['75th']=np.percentile(abt[x].to_numpy(), 75)\n",
    "        NewData['Max']=abt[x].to_numpy().max()\n",
    "        NewData['Std. Dev']=np.std(abt[x].to_numpy())\n",
    "        q1 = abt[x].quantile(0.25)\n",
    "        q3 = abt[x].quantile(0.75)\n",
    "        iqr =  q3 - q1\n",
    "        NewData['Outlier Count Low']=abt[x].lt(q1-(1.5 *iqr)).sum()\n",
    "        NewData['Outlier Count High']=abt[x].gt(q3+(1.5 *iqr)).sum()\n",
    "        values = NewData.values()\n",
    "        QRDF.loc[len(QRDF)] =list(values)\n",
    "    \n",
    "    return QRDF\n",
    "  \n",
    "    pass"
   ]
  },
  {
   "cell_type": "code",
   "execution_count": 600,
   "metadata": {},
   "outputs": [
    {
     "name": "stdout",
     "output_type": "stream",
     "text": [
      "(816, 13)\n",
      "                               Feature Name Cardinality Non-null Count  \\\n",
      "0                               TOTUSJH_min       30165          73492   \n",
      "1                               TOTUSJH_max       24142          73492   \n",
      "2                            TOTUSJH_median       62001          73492   \n",
      "3                              TOTUSJH_mean       73492          73492   \n",
      "4                            TOTUSJH_stddev       73492          73492   \n",
      "..                                      ...         ...            ...   \n",
      "811                      R_VALUE_last_value       33137          73492   \n",
      "812  R_VALUE_slope_of_longest_mono_increase        9737          73492   \n",
      "813  R_VALUE_slope_of_longest_mono_decrease       10383          73492   \n",
      "814         R_VALUE_avg_mono_increase_slope       40605          73492   \n",
      "815         R_VALUE_avg_mono_decrease_slope       40729          73492   \n",
      "\n",
      "    Null Count       Min       25th        Mean        50th        75th  \\\n",
      "0            0  0.000000  29.756125  396.697968  110.011893  418.614528   \n",
      "1            0  0.783099  53.117112  492.649021  162.797367  541.875882   \n",
      "2            0  0.000000  40.726671  439.417610  133.981693  472.710291   \n",
      "3            0  0.100756  40.833189  440.333385  134.524140  474.257514   \n",
      "4            0  0.176471   4.926721   25.019193   11.410790   30.408330   \n",
      "..         ...       ...        ...         ...         ...         ...   \n",
      "811          0  0.000000   0.000000    1.600113    0.000000    3.551178   \n",
      "812          0  0.000000   0.000000    0.350400    0.049212    0.752320   \n",
      "813          0 -1.609386  -0.004141   -0.051591   -0.000851    0.000000   \n",
      "814          0  0.000000   0.000000    0.155246    0.020343    0.202260   \n",
      "815          0 -1.609386  -0.198219   -0.151353   -0.020192    0.000000   \n",
      "\n",
      "             Max    Std. Dev Outlier Count Low Outlier Count High  \n",
      "0    5680.232811  694.293786                 0               9014  \n",
      "1    6078.237599  801.078303                 0               8540  \n",
      "2    5895.663839  741.152887                 0               8799  \n",
      "3    5877.701432  741.767409                 0               8783  \n",
      "4     618.834925   35.130481                 0               6684  \n",
      "..           ...         ...               ...                ...  \n",
      "811     5.639195    1.871178                 0                  0  \n",
      "812     1.734700    0.494607                 0                  0  \n",
      "813     0.000000    0.195380             10650                  0  \n",
      "814     1.636702    0.266666                 0               8287  \n",
      "815     0.000000    0.260516              8081                  0  \n",
      "\n",
      "[816 rows x 13 columns]\n"
     ]
    }
   ],
   "source": [
    "summary_table = construct_quality_report(abt)\n",
    "print(summary_table.shape)  # checking the dimensionality is often a useful test.\n",
    "print(summary_table)"
   ]
  },
  {
   "cell_type": "markdown",
   "metadata": {},
   "source": [
    "### Q3 (20 points)\n",
    "#### Drop features with improper cardinality:\n",
    "Using the quality report summary table that is returned from the function you wrote for Q2, we are now going to investigate our data. For this, you should use the table returned for the [Full Partition 1 feature dataset](http://dmlab.cs.gsu.edu/solar/data/partition1ExtractedFeatures.csv) and not the toy dataset I provided for testing.\n",
    "\n",
    "Since we are using real valued features, a majority of them shall have a cardinality close to the sample count. So, for this question, you are to write a function that takes in the summary table and the input dataset DataFrame, and drops the feature that have a cardinality less than 10. This feature should be dropped from both the data quality report summary table and from the actual input dataset DataFrame.\n",
    "\n",
    "A useful method for this operation is:\n",
    "\n",
    "* [pandas.DataFrame.drop](https://pandas.pydata.org/pandas-docs/stable/reference/api/pandas.DataFrame.drop.html) (Make sure to use the inplace option otherwise it returns a copy)"
   ]
  },
  {
   "cell_type": "code",
   "execution_count": 601,
   "metadata": {},
   "outputs": [],
   "source": [
    "def drop_low_card_data(summary_table:DataFrame, data:DataFrame) -> None:\n",
    "    \"\"\"\n",
    "    a function that takes in the summary table and the input dataset DataFrame, and drops \n",
    "    the features that have a cardinality less than 10.\n",
    "    \n",
    "    Parameters\n",
    "    ----------\n",
    "    summary_table : DataFrame\n",
    "        a summary table that contains extracted pieces of a data quality report for the partnering analytic base table\n",
    "        \n",
    "    data : DataFrame\n",
    "        an analytical base table dataframe or general dataframe used alongside the quality report to investigate the data\n",
    "    Output\n",
    "    ----------\n",
    "    returns a summary table dataframe after remvoing features that have a cardinality less than 10 from the dataframe.\n",
    "    \"\"\"\n",
    "    Name = summary_table['Feature Name']\n",
    "    Cardin = summary_table['Cardinality']\n",
    "    \n",
    "    count = 0\n",
    "    \n",
    "    \n",
    "    for x, y in zip(Name, Cardin):\n",
    "        \n",
    "        if y < 10:\n",
    "            #print(y)\n",
    "            abt.drop(x, axis=1, inplace=True)\n",
    "            continue\n",
    "        count = count+1\n",
    "    \n",
    "    \n",
    "    \n",
    "    \n",
    "    summary_table.drop(summary_table[summary_table['Cardinality'] < 10].index, inplace = True)\n",
    "    \n",
    "    pass\n"
   ]
  },
  {
   "cell_type": "code",
   "execution_count": 602,
   "metadata": {},
   "outputs": [
    {
     "name": "stdout",
     "output_type": "stream",
     "text": [
      "(801, 13)\n",
      "                               Feature Name Cardinality Non-null Count  \\\n",
      "0                               TOTUSJH_min       30165          73492   \n",
      "1                               TOTUSJH_max       24142          73492   \n",
      "2                            TOTUSJH_median       62001          73492   \n",
      "3                              TOTUSJH_mean       73492          73492   \n",
      "4                            TOTUSJH_stddev       73492          73492   \n",
      "..                                      ...         ...            ...   \n",
      "811                      R_VALUE_last_value       33137          73492   \n",
      "812  R_VALUE_slope_of_longest_mono_increase        9737          73492   \n",
      "813  R_VALUE_slope_of_longest_mono_decrease       10383          73492   \n",
      "814         R_VALUE_avg_mono_increase_slope       40605          73492   \n",
      "815         R_VALUE_avg_mono_decrease_slope       40729          73492   \n",
      "\n",
      "    Null Count       Min       25th        Mean        50th        75th  \\\n",
      "0            0  0.000000  29.756125  396.697968  110.011893  418.614528   \n",
      "1            0  0.783099  53.117112  492.649021  162.797367  541.875882   \n",
      "2            0  0.000000  40.726671  439.417610  133.981693  472.710291   \n",
      "3            0  0.100756  40.833189  440.333385  134.524140  474.257514   \n",
      "4            0  0.176471   4.926721   25.019193   11.410790   30.408330   \n",
      "..         ...       ...        ...         ...         ...         ...   \n",
      "811          0  0.000000   0.000000    1.600113    0.000000    3.551178   \n",
      "812          0  0.000000   0.000000    0.350400    0.049212    0.752320   \n",
      "813          0 -1.609386  -0.004141   -0.051591   -0.000851    0.000000   \n",
      "814          0  0.000000   0.000000    0.155246    0.020343    0.202260   \n",
      "815          0 -1.609386  -0.198219   -0.151353   -0.020192    0.000000   \n",
      "\n",
      "             Max    Std. Dev Outlier Count Low Outlier Count High  \n",
      "0    5680.232811  694.293786                 0               9014  \n",
      "1    6078.237599  801.078303                 0               8540  \n",
      "2    5895.663839  741.152887                 0               8799  \n",
      "3    5877.701432  741.767409                 0               8783  \n",
      "4     618.834925   35.130481                 0               6684  \n",
      "..           ...         ...               ...                ...  \n",
      "811     5.639195    1.871178                 0                  0  \n",
      "812     1.734700    0.494607                 0                  0  \n",
      "813     0.000000    0.195380             10650                  0  \n",
      "814     1.636702    0.266666                 0               8287  \n",
      "815     0.000000    0.260516              8081                  0  \n",
      "\n",
      "[801 rows x 13 columns]\n"
     ]
    }
   ],
   "source": [
    "drop_low_card_data(summary_table, abt)\n",
    "print(summary_table.shape)\n",
    "print(summary_table)"
   ]
  },
  {
   "cell_type": "markdown",
   "metadata": {},
   "source": [
    "### Q4 (20 points)\n",
    "#### Drop features with excessive NaN\n",
    "\n",
    "Again, using the quality report summary table that is returned from the function you wrote for Q2, we are going to continue investigating our data. For this, you should still be using the table returned for the [Full Partition 1 feature dataset](http://dmlab.cs.gsu.edu/solar/data/partition1ExtractedFeatures.csv) and not the toy dataset I provided for testing.\n",
    "\n",
    "Like the features that were dropped for Q3, some of the extracted features don't work on all of the variates of the input multi-variate time series samples very well.  So, some of these features return an excessive number of `NaN` values.  These are not verry useful features, so we want to get rid of them before we continue. To do this, you are to write a function that takes in the summary table and the input dataset DataFrame, and drops the features that have **more than 1%** of the entries as null/nan values. Again, these features should be dropped from both the data quality report summary table and from the actual input dataset DataFrame.\n",
    "\n",
    "As in Q3, a useful method for this operation is:\n",
    "\n",
    "* [pandas.DataFrame.drop](https://pandas.pydata.org/pandas-docs/stable/reference/api/pandas.DataFrame.drop.html) (Make sure to use the inplace option otherwise it returns a copy)"
   ]
  },
  {
   "cell_type": "code",
   "execution_count": 603,
   "metadata": {},
   "outputs": [],
   "source": [
    "def drop_excessive_nan_data(summary_table:DataFrame, data:DataFrame) -> None:\n",
    "    \"\"\"\n",
    "    a function that takes in the summary table and the input dataset DataFrame, and drops \n",
    "    the features that have more than 1% of the entries as null/nan values. \n",
    "    \n",
    "    Parameters\n",
    "    ----------\n",
    "    summary_table : DataFrame\n",
    "        a summary table that contains extracted pieces of a data quality report for the partnering analytic base table\n",
    "        \n",
    "    data : DataFrame\n",
    "        an analytical base table dataframe or general dataframe used alongside the quality report to investigate the data\n",
    "    Output\n",
    "    ----------\n",
    "    returns a summary table dataframe after removing features that have have more than 1% of the entries as null/nan values r from the dataframe.\n",
    "    \"\"\"\n",
    "    \n",
    "    Total_Nulls = summary_table['Null Count']\n",
    "    Total_NonNulls = summary_table['Non-null Count']\n",
    "    Name = summary_table['Feature Name']\n",
    " \n",
    "    NamesToDrop = []\n",
    "    for Names,Null,NonNull in zip(Name, Total_Nulls,Total_NonNulls):\n",
    "        \n",
    "        totalPercen =Null/(Null +NonNull)\n",
    "        if totalPercen >.01:\n",
    "            NamesToDrop.append(Names)\n",
    "            \n",
    " \n",
    "    \n",
    "    summary_table = summary_table[~summary_table['Feature Name'].isin(NamesToDrop)]\n",
    "    \n",
    "    for Names in NamesToDrop:\n",
    "        abt.drop(Names, axis=1, inplace=True)\n",
    "    \n",
    "    \n",
    "    \n",
    "            \n",
    "            \n",
    "        \n",
    "        \n",
    "   \n",
    "    \n",
    " \n",
    "    \n",
    "    pass\n",
    "drop_excessive_nan_data(summary_table, abt)"
   ]
  },
  {
   "cell_type": "code",
   "execution_count": 604,
   "metadata": {},
   "outputs": [
    {
     "name": "stdout",
     "output_type": "stream",
     "text": [
      "(801, 13)\n"
     ]
    }
   ],
   "source": [
    "#drop_excessive_nan_data(summary_table, abt)\n",
    "print(summary_table.shape)"
   ]
  },
  {
   "cell_type": "markdown",
   "metadata": {},
   "source": [
    "Now that you have the data cleaned up a little, save the results of both your summary table and your analytics base table using the [pandas.to_csv](https://pandas.pydata.org/pandas-docs/stable/reference/api/pandas.DataFrame.to_csv.html) method. We will want to use these results for the next homework assignment."
   ]
  },
  {
   "cell_type": "code",
   "execution_count": 605,
   "metadata": {},
   "outputs": [],
   "source": [
    "out_dir = '/Users/carltonbrown/Downloads/partition1/'\n",
    "out_summary_table_name = 'data_quality_table.csv'\n",
    "out_abt_name = 'cleaned_partition1ExtractedFeatures.csv'"
   ]
  },
  {
   "cell_type": "code",
   "execution_count": 606,
   "metadata": {},
   "outputs": [],
   "source": [
    "summary_table.to_csv(os.path.join(out_dir, out_summary_table_name))\n",
    "abt.to_csv(os.path.join(out_dir,out_abt_name))"
   ]
  },
  {
   "cell_type": "markdown",
   "metadata": {},
   "source": [
    "### Q5 (20 points)\n",
    "#### Add docstring to your functions\n",
    "\n",
    "Let's revisit our programming skill while learning Fundamentals of Data Science. \n",
    "\n",
    "Your code is only as valuable as its reusability. Without understandable and legible documentation (which makes maintainability and reusability possible) nobody would like to use your code, let alone to pay for it. ;)\n",
    "\n",
    "If you want to know more about the value of documentation, read [this article](https://www.freecodecamp.org/news/why-documentation-matters-and-why-you-should-include-it-in-your-code-41ef62dd5c2f/). There are even conferences on this topic; see [this website](https://www.writethedocs.org/guide/writing/beginners-guide-to-docs/).\n",
    "\n",
    "In Python, the documentation that is embedded in the code is called **docstring**. In the example below, the \"string\" wrapped in triple quotes is there to tell us all about this function."
   ]
  },
  {
   "cell_type": "code",
   "execution_count": 607,
   "metadata": {},
   "outputs": [],
   "source": [
    "def nanmean(a, axis=None):\n",
    "    \"\"\"\n",
    "    Compute the arithmetic mean along the specified axis, ignoring NaNs.\n",
    "    \n",
    "Parameters\n",
    "    ----------\n",
    "    a : array_like\n",
    "        Array containing numbers whose mean is desired. If `a` is not an\n",
    "        array, a conversion is attempted.\n",
    "    axis : {int, tuple of int, None}, optional\n",
    "        Axis or axes along which the means are computed. The default is to compute\n",
    "        the mean of the flattened array.\n",
    "    \"\"\"\n",
    "    # some magic happens here that we don't care about.\n",
    "    pass\n"
   ]
  },
  {
   "cell_type": "markdown",
   "metadata": {},
   "source": [
    "Note that this is not just a *comment*. If you execute `nanmean` and then call it (as if you want to use it), you can hit `shift+Tab` while your cursor is on the function name, and see how the docstring gets compiled and then pops up. This allows other users to see our description even when they don't have access to our source code. Try it! You can do this with other NumPy and Pandas functions/methods that you've been using.\n",
    "\n",
    "The above example is a simplified version of the method `nanmean` copied from the NumPy library ([here](https://github.com/numpy/numpy/blob/v1.21.0/numpy/lib/nanfunctions.py#L862-L957)). Feel free to check out their complete docstrings.\n",
    "\n",
    "\n",
    "Your last task is to provide docstrings for the 4 methods you've implemented. Simply go back to those cells and modify your functions. Feel free to use the text provided to you (in the assignment descriptions) to enrich your docstrings. Keep in mind that your docstring needs (1) a general description, (2) a short description for each input, and (3) a short description for the output.\n",
    "\n",
    "How to check your docstring? Hit `shift+Tab` and see if the pop-up message is correctly compiled, and make sure your description answers all the questions about your functions."
   ]
  }
 ],
 "metadata": {
  "kernelspec": {
   "display_name": "Python 3",
   "language": "python",
   "name": "python3"
  },
  "language_info": {
   "codemirror_mode": {
    "name": "ipython",
    "version": 3
   },
   "file_extension": ".py",
   "mimetype": "text/x-python",
   "name": "python",
   "nbconvert_exporter": "python",
   "pygments_lexer": "ipython3",
   "version": "3.8.8"
  }
 },
 "nbformat": 4,
 "nbformat_minor": 4
}
