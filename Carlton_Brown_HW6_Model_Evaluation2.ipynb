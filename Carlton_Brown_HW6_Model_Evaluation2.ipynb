{
 "cells": [
  {
   "cell_type": "markdown",
   "id": "apparent-cookbook",
   "metadata": {},
   "source": [
    "# Homework Assignment 6: Model Evaluation 2\n",
    "As in the previous assignments, in this homework assignment you will continue your exploration of the [SWAN-SF Dataset](https://doi.org/10.7910/DVN/EBCFKM), described in the paper found [here](https://doi.org/10.1038/s41597-020-0548-x).\n",
    "\n",
    "This assignment will continue to utilize a copy of the extracted feature dataset we used in Homework 5. Recall that the dataset has been processed by performing log, z-score and range scaling. We continuing to use more than one partition worth of data, so for the scaling, the mean, standard deviation, minimum, and maximum were calculated using data from both partitions so that a global scaling can be performed on each partition. \n",
    "\n",
    "\n",
    "---"
   ]
  },
  {
   "cell_type": "markdown",
   "id": "animal-portugal",
   "metadata": {},
   "source": [
    "## Step 1: Downloading the Data\n",
    "\n",
    "This assignment will continue to use [Partition 1](https://dataverse.harvard.edu/api/access/datafile/:persistentId?persistentId=doi:10.7910/DVN/EBCFKM/BMXYCB) for a training set and [Partition 2](https://dataverse.harvard.edu/api/access/datafile/:persistentId?persistentId=doi:10.7910/DVN/EBCFKM/TCRPUD) as a testing set. \n",
    "\n",
    "---\n",
    "\n",
    "For this assignment, cleaning, transforming, and normalization of the data has been completed using both partitions to find the various minimum, maximum, standard deviation, and mean values needed to perform these operations. Recall from lecture that we should not perform these operations on each partition individually, but as a whole as there may(will) be different values for these in different partitions. \n",
    "\n",
    "For example, if we perform simple range scaling on each partition individually and we see a range of 0 to 100 in one partition and 0 to 10 in another. After individual scaling the values with 100 in the first would be mapped to 1 just like the values that had 10 in the second. This can cause serious performance problems in your model, so I have made sure that the normalization was treated properly for you. \n",
    "\n",
    "Below you will find the full partitions and `toy` sampled data from each partition, where only 20 samples from each of our 5 classes have been included in the data.  \n",
    "\n",
    "#### Full\n",
    "- [Full Normalized Partition 1 feature dataset](http://dmlab.cs.gsu.edu/solar/data/normalized_partition1ExtractedFeatures.csv)\n",
    "- [Full Normalized Partition 2 feature dataset](http://dmlab.cs.gsu.edu/solar/data/normalized_partition2ExtractedFeatures.csv)\n",
    "\n",
    "#### Toy\n",
    "- [Toy Normalized Partition 1 feature dataset](http://dmlab.cs.gsu.edu/solar/data/toy_normalized_partition1ExtractedFeatures.csv)\n",
    "- [Toy Normalized Partition 2 feature dataset](http://dmlab.cs.gsu.edu/solar/data/toy_normalized_partition2ExtractedFeatures.csv)\n",
    "\n",
    "Now that you have the two files, you should load each into a Pandas DataFrame using the [pandas.read_csv](https://pandas.pydata.org/pandas-docs/stable/reference/api/pandas.read_csv.html) method. \n",
    "\n",
    "---"
   ]
  },
  {
   "cell_type": "markdown",
   "id": "packed-spare",
   "metadata": {},
   "source": [
    "### Evaluation Metric\n",
    "\n",
    "As was done in Homework 5, for each of the models we evaluate in this assignmnet, you will calculate the True Skill Statistic score using the test data from Partition 2 to determine which model performs the best for classifying the positive flaring class.\n",
    "\n",
    "    True skill statistic (TSS) = TPR + TNR - 1 = TPR - (1-TNR) = TPR - FPR\n",
    "\n",
    "Where:\n",
    "\n",
    "    True positive rate (TPR) = TP/(TP+FN) Also known as recall or sensitivity\n",
    "    True negative rate (TNR) = TN/(TN+FP) Also known as specificity or selectivity\n",
    "    False positive rate (FPR) = FP/(FP+TN) = (1-TNR) Also known as fall-out or false alarm ratio\n",
    "\n",
    "\n",
    "**Recall**\n",
    "\n",
    "    True positive (TP)\n",
    "    True negative (TN)\n",
    "    False positive (FP)\n",
    "    False negative (FN)\n",
    "    \n",
    "See [confusion matrix](https://en.wikipedia.org/wiki/Confusion_matrix) for more information.\n",
    "\n",
    "Below is a function implemented to provide your score for each model.\n",
    "\n",
    "---"
   ]
  },
  {
   "cell_type": "code",
   "execution_count": 1,
   "id": "individual-production",
   "metadata": {},
   "outputs": [],
   "source": [
    "%matplotlib inline\n",
    "import os\n",
    "import itertools\n",
    "import pandas as pd\n",
    "from pandas import DataFrame \n",
    "import numpy as np\n",
    "from sklearn.metrics import confusion_matrix\n",
    "from sklearn.feature_selection import SelectKBest\n",
    "from sklearn.feature_selection import f_classif\n",
    "from sklearn.feature_selection import mutual_info_classif\n",
    "from sklearn.feature_selection import chi2\n",
    "from sklearn.feature_selection import SequentialFeatureSelector\n",
    "from sklearn.feature_selection import SelectFromModel\n",
    "from sklearn.linear_model import LassoLars\n",
    "from sklearn.ensemble import ExtraTreesClassifier\n",
    "from sklearn.cluster import KMeans\n",
    "\n",
    "from sklearn.svm import SVC\n",
    "import seaborn as sns\n",
    "import matplotlib.pyplot as plt"
   ]
  },
  {
   "cell_type": "code",
   "execution_count": 2,
   "id": "facial-sleep",
   "metadata": {},
   "outputs": [],
   "source": [
    "def calc_tss(y_true, y_predict):\n",
    "    '''\n",
    "    Calculates the true skill score for binary classification based on the output of the confusion\n",
    "    table function\n",
    "    \n",
    "        Parameters:\n",
    "            y_true   : A vector/list of values that represent the true class label of the data being evaluated.\n",
    "            y_predict: A vector/list of values that represent the predicted class label for the data being evaluated.\n",
    "    \n",
    "        Returns:\n",
    "            tss_value (float): A floating point value (-1.0,1.0) indicating the TSS of the input data\n",
    "    '''\n",
    "    scores = confusion_matrix(y_true, y_predict).ravel()\n",
    "    TN, FP, FN, TP = scores\n",
    "    print('TN={0}\\tFP={1}\\tFN={2}\\tTP={3}'.format(TN, FP, FN, TP))\n",
    "    tp_rate = TP / float(TP + FN) if TP > 0 else 0  \n",
    "    fp_rate = FP / float(FP + TN) if FP > 0 else 0\n",
    "    \n",
    "    return tp_rate - fp_rate"
   ]
  },
  {
   "cell_type": "markdown",
   "id": "5b04d14e",
   "metadata": {},
   "source": [
    "---\n",
    "\n",
    "In addition to the TSS, you will be asked to also calculate the Heidke Skill Score (HSS) to see how much better your model performs than a random forecast.  \n",
    "\n",
    "Below is a function implemented to provide your score fore each model.\n",
    "\n",
    "---"
   ]
  },
  {
   "cell_type": "code",
   "execution_count": 3,
   "id": "1ab05f6a",
   "metadata": {},
   "outputs": [],
   "source": [
    "def calc_hss(y_true, y_predict):\n",
    "    '''\n",
    "    Calculates the Heidke Skill Score for binary classification based on the output of the confusion\n",
    "    table function.\n",
    "    \n",
    "    The HSS measures the fractional improvement of the forecast over the standard forecast.\n",
    "    The \"standard forecast\" is usually the number correct by chance or the proportion \n",
    "    correct by chance.\n",
    "    \n",
    "        Parameters:\n",
    "            y_true   : A vector/list of values that represent the true class label of the data being evaluated.\n",
    "            y_predict: A vector/list of values that represent the predicted class label for the data being evaluated.\n",
    "    \n",
    "        Returns:\n",
    "            hss_value (float): A floating point value (-inf,1.0) indicating the HSS of the input data. \n",
    "                Negative values indicate that the chance forecast is better, 0 means no skill, and a perfect forecast obtains a HSS of 1.\n",
    "    '''\n",
    "    scores = confusion_matrix(y_true, y_predict).ravel()\n",
    "    TN, FP, FN, TP = scores\n",
    "    #print('TN={0}\\tFP={1}\\tFN={2}\\tTP={3}'.format(TN, FP, FN, TP))\n",
    "    P = float(TP + FN)\n",
    "    N = float(FP + TN)\n",
    "    numerator = 2*((TP * TN) - (FN * FP))\n",
    "    denominator = P*(FN + TN) + N*(TP + FP)\n",
    "    \n",
    "    return numerator/denominator"
   ]
  },
  {
   "cell_type": "markdown",
   "id": "secure-alfred",
   "metadata": {},
   "source": [
    "---\n",
    "\n",
    "As in the previous assignment, we will be utilizing a binary classification of our 5 class dataset. So, below is the helper function to change our class labels from the 5 class target feature to the binary target feature. The function is implemented to take a dataframe (e.g. our `abt`) and prepares it for a binary classification by merging the `X`- and `M`-class samples into one group, and the rest (`NF`, `B`, and `C`) into another group, labeled with `1`s and `0`s, respectively.\n",
    "\n",
    "---"
   ]
  },
  {
   "cell_type": "code",
   "execution_count": 4,
   "id": "handled-motor",
   "metadata": {},
   "outputs": [],
   "source": [
    "def dichotomize_X_y(data: pd.DataFrame):\n",
    "    \"\"\"\n",
    "    dichotomizes the dataset and split it into the features (X) and the labels (y).\n",
    "    \n",
    "    :return: two np.ndarray objects X and y.\n",
    "    \"\"\"\n",
    "    data_dich = data.copy()\n",
    "    data_dich['lab'] = data_dich['lab'].map({'NF': 0, 'B': 0, 'C': 0, 'M': 1, 'X': 1})\n",
    "    y = data_dich['lab']\n",
    "    X = data_dich.drop(['lab'], axis=1)\n",
    "    return X.values, y.values"
   ]
  },
  {
   "cell_type": "markdown",
   "id": "approximate-manufacturer",
   "metadata": {},
   "source": [
    "---\n",
    "\n",
    "### Reading the partitions"
   ]
  },
  {
   "cell_type": "code",
   "execution_count": 5,
   "id": "viral-productivity",
   "metadata": {},
   "outputs": [],
   "source": [
    "data_dir = '/Users/carltonbrown/Desktop/FDS/'\n",
    "#data_file = \"partition1/toy_normalized_partition1ExtractedFeatures.csv\"\n",
    "#data_file2 = \"Partition 2/toy_normalized_partition2ExtractedFeatures.csv\"\n",
    "data_file = \"partition1/normalized_partition1ExtractedFeatures.csv\"\n",
    "data_file2 = \"Partition 2/normalized_partition2ExtractedFeatures.csv\""
   ]
  },
  {
   "cell_type": "code",
   "execution_count": 6,
   "id": "infectious-segment",
   "metadata": {},
   "outputs": [],
   "source": [
    "abt = pd.read_csv(os.path.join(data_dir, data_file))\n",
    "abt2 = pd.read_csv(os.path.join(data_dir, data_file2))\n"
   ]
  },
  {
   "cell_type": "markdown",
   "id": "f78989fe",
   "metadata": {},
   "source": [
    "---\n",
    "\n",
    "### Run Feature Selection\n",
    "\n",
    "Below you have code to perform feature selction using [SelectKBest](https://scikit-learn.org/stable/modules/generated/sklearn.feature_selection.SelectKBest.html#sklearn.feature_selection.SelectKBest) class from [scikit-learn Univariate Feature Selection](https://scikit-learn.org/stable/modules/feature_selection.html#univariate-feature-selection). The scoring function being used is [scikit-learn f_classif](https://scikit-learn.org/stable/modules/generated/sklearn.feature_selection.f_classif.html#sklearn.feature_selection.f_classif).\n",
    "\n",
    "Once feature selection is done with this one method, a set of training and testing dataframes are constructed by doing the following:\n",
    "\n",
    "* Utilizing the `get_support` function of the feature selection object we get a mask of the features we will select from our original analytics base table DataFrame.  \n",
    "\n",
    "* The mask of selected features is then paired with the `loc` function on our datframe containing only the descriptive features to get our selected featrues on all rows in our feature dataframe.\n",
    "\n",
    "* The set of selected features are concatenated with our labels to construct a training dataset.\n",
    "\n",
    "* This process was then repeated to construct the testing set.\n",
    "\n",
    "---"
   ]
  },
  {
   "cell_type": "code",
   "execution_count": 7,
   "id": "818faa7c",
   "metadata": {},
   "outputs": [],
   "source": [
    "numFeat = 20\n",
    "\n",
    "# Split the target and descriptive features for Partition 1 into two \n",
    "# different DataFrame objects\n",
    "df_labels = abt['lab'].copy()\n",
    "\n",
    "df_feats = abt.copy().drop(['lab'], axis=1)\n",
    "\n",
    "# Split the target and descriptive features for Partition 2 inot two\n",
    "# different DataFrame Objects\n",
    "df_test_labels = abt2['lab'].copy()\n",
    "df_test_feats = abt2.copy().drop(['lab'], axis=1)\n",
    "\n",
    "# Do feature selection\n",
    "feats1 = SelectKBest(f_classif, k=numFeat).fit(df_feats, df_labels)\n"
   ]
  },
  {
   "cell_type": "code",
   "execution_count": 8,
   "id": "041022de",
   "metadata": {},
   "outputs": [],
   "source": [
    "# Construct a training dataset from Partition 1 with only the selected descriptive \n",
    "# features and the target feature\n",
    "df_selected_feats1 = df_feats.loc[:, feats1.get_support()]\n",
    "\n",
    "df_train_set1 = pd.concat([df_labels, df_selected_feats1], axis=1)\n",
    "\n",
    "\n",
    "# Construct a testing dataset from Partition 2 with only the selected descriptive\n",
    "# features and the target feature\n",
    "df_test_selected_feats1 = df_test_feats.loc[:, feats1.get_support()]\n",
    "df_test_set1 = pd.concat([df_test_labels, df_test_selected_feats1], axis=1)"
   ]
  },
  {
   "cell_type": "markdown",
   "id": "28981223",
   "metadata": {},
   "source": [
    "---\n",
    "### Q1 (5 points)\n",
    "\n",
    "Using the feature selection task above as a template, you will now perform feature selection again to produce a second set of training and testing data. This time you will use the [SelectFromModel](https://scikit-learn.org/stable/modules/generated/sklearn.feature_selection.SelectFromModel.html#sklearn.feature_selection.SelectFromModel) class from [scikit-learn Univariate Feature Selection](https://scikit-learn.org/stable/modules/feature_selection.html#univariate-feature-selection). \n",
    "\n",
    "Instead of using the [LinearSVC](https://scikit-learn.org/stable/modules/generated/sklearn.svm.LinearSVC.html#sklearn.svm.LinearSVC) that is shown in the example documentation linked above, you will be utilizing the [LassoLars](https://scikit-learn.org/stable/modules/generated/sklearn.linear_model.LassoLars.html#sklearn.linear_model.LassoLars) as your `estimator`.  You should also set the `max_features` to the number of features we are going to select (20 features). \n",
    "\n",
    "**Note:** The LassoLars class is a regression model and will not work on our string class lables. So, you need to map the `NF`, `B`, `C`, `M`, `X` labels to a range between `-1` and `1` before you attempt to fit the feature selection model to them. You can try evenly spacing them, or forcing the classes that will be used as the negative class into a tight range and those that will be used as the postive class into another tight range.  Maybe this another location for you to do hyperparameter tuning?"
   ]
  },
  {
   "cell_type": "code",
   "execution_count": 9,
   "id": "a0638036",
   "metadata": {},
   "outputs": [],
   "source": [
    "numFeat = 20"
   ]
  },
  {
   "cell_type": "code",
   "execution_count": 10,
   "id": "dbe2d3f4",
   "metadata": {},
   "outputs": [],
   "source": [
    "\n",
    "\n",
    "LL_labels= abt['lab'].map({'NF':0, 'B':0, 'C':0, 'M':1, 'X':1})\n",
    "\n",
    "\n",
    "\n",
    "\n",
    "LL_feats =abt.drop(['lab'], axis=1)\n",
    "\n",
    "\n",
    "\n",
    "\n",
    "\n",
    "\n",
    "\n",
    "LL_feats1 = SelectFromModel(estimator=LassoLars(),max_features=numFeat,threshold=-np.inf).fit( LL_feats,LL_labels)\n",
    "\n",
    "\n",
    "LL_selected_feats1 = LL_feats.loc[:, LL_feats1.get_support()]\n",
    "\n",
    "LL_train_set1 = pd.concat([abt['lab'], LL_selected_feats1], axis=1,join='inner')\n",
    "\n",
    "\n",
    "LL_test_labels = abt2['lab'].map({'NF':0, 'B':0, 'C':0, 'M':1, 'X':1})\n",
    "\n",
    "LL_test_feats = abt2.drop(['lab'], axis =1)\n",
    "\n",
    "\n",
    "\n",
    "LL_test_selected_feats1 = LL_test_feats.iloc[:, LL_feats1.get_support(indices=True)]\n",
    "\n",
    "LL_test_set1 = pd.concat([abt2['lab'], LL_test_selected_feats1], axis=1,join='inner') \n",
    "\n",
    "\n"
   ]
  },
  {
   "cell_type": "markdown",
   "id": "88a34b6f",
   "metadata": {},
   "source": [
    "---\n",
    "### Q2 (5 points)\n",
    "\n",
    "In this question, you will again perform the feature selection task [SelectFromModel](https://scikit-learn.org/stable/modules/generated/sklearn.feature_selection.SelectFromModel.html#sklearn.feature_selection.SelectFromModel) class from [scikit-learn Univariate Feature Selection](https://scikit-learn.org/stable/modules/feature_selection.html#univariate-feature-selection). However, this time, you will be utililizing a random forest model called [ExtraTressClssifier](https://scikit-learn.org/stable/modules/generated/sklearn.ensemble.ExtraTreesClassifier.html#sklearn.ensemble.ExtraTreesClassifier) as the `estimator`. \n",
    "\n",
    "You need set the `max_features` of the SelectFromModel object to the number of features we are going to select (20 features). \n",
    "\n",
    "You also need to set the `n_estimators` of the random forest algorithm to `75` when you construct it.\n",
    "\n",
    "**Note:** This method allows you to utilize our string class labels, so you don't need to map the lables to any other values. You can use the labels that were used in the original example above."
   ]
  },
  {
   "cell_type": "code",
   "execution_count": 11,
   "id": "4deb923e",
   "metadata": {},
   "outputs": [],
   "source": [
    "numFeat = 20"
   ]
  },
  {
   "cell_type": "code",
   "execution_count": 12,
   "id": "a7e9454a",
   "metadata": {},
   "outputs": [],
   "source": [
    "\n",
    "\n",
    "# Split the target and descriptive features for Partition 1 into two \n",
    "# different DataFrame objects\n",
    "ETC_labels = abt['lab'].copy()\n",
    "\n",
    "ETC_feats = abt.copy().drop(['lab'], axis=1)\n",
    "\n",
    "\n",
    "\n",
    "# Split the target and descriptive features for Partition 2 inot two\n",
    "# different DataFrame Objects\n",
    "ETC_test_labels = abt2['lab'].copy()\n",
    "ETC_test_feats = abt2.copy().drop(['lab'], axis=1)\n",
    "\n",
    "# Do feature selection\n",
    "ETC_feats1 = SelectFromModel(estimator= ExtraTreesClassifier(n_estimators =75),max_features=numFeat).fit(ETC_feats, ETC_labels)\n",
    "\n",
    "# Construct a training dataset from Partition 1 with only the selected descriptive \n",
    "# features and the target feature\n",
    "#print(ETC_feats1.get_support(indices=True))\n",
    "ETC_selected_feats1 = ETC_feats.iloc[:, ETC_feats1.get_support(indices=True)]\n",
    "ETC_train_set1 = pd.concat([ETC_labels, ETC_selected_feats1], axis=1)\n",
    "#print(ETC_train_set1)\n",
    "\n",
    "\n",
    "\n",
    "# Construct a testing dataset from Partition 2 with only the selected descriptive\n",
    "# features and the target feature\n",
    "ETC_test_selected_feats1 = ETC_test_feats.iloc[:, ETC_feats1.get_support(indices=True)]\n",
    "ETC_test_set1 = pd.concat([ETC_test_labels, ETC_test_selected_feats1], axis=1)\n",
    "\n",
    "\n",
    "\n"
   ]
  },
  {
   "cell_type": "markdown",
   "id": "39118a80",
   "metadata": {},
   "source": [
    "---\n",
    "### Q3 (5 points)\n",
    "\n",
    "Now that you have three different datasets, you need to convert them each to a binary classification problem datase or dichotomize the training and testing data. Lucky for you, a method has already been provided to do this. All you need to do is apply it to teach of the `DataFrame`s you constructed with the feature selected training and testing data from the exmpale, Q1, and Q2.\n",
    "\n",
    "**Note:** You might want to put the training and testing tuples you get from the call to the dichotomize method into seperate training and testing lists. Then you can loop over them later. "
   ]
  },
  {
   "cell_type": "code",
   "execution_count": 13,
   "id": "67f8b669",
   "metadata": {},
   "outputs": [],
   "source": [
    "\n",
    "train_list = []\n",
    "test_list =[]\n",
    "\n",
    "\n",
    "train_list.append(dichotomize_X_y(df_train_set1))\n",
    "\n",
    "train_list.append(dichotomize_X_y(ETC_train_set1))\n",
    "\n",
    "train_list.append(dichotomize_X_y(LL_train_set1)) \n",
    "\n",
    "\n",
    "\n",
    "test_list.append(dichotomize_X_y(df_test_set1))\n",
    "\n",
    "test_list.append(dichotomize_X_y(ETC_test_set1))\n",
    "\n",
    "test_list.append(dichotomize_X_y(LL_test_set1))"
   ]
  },
  {
   "cell_type": "markdown",
   "id": "d266a5bc",
   "metadata": {},
   "source": [
    "---\n",
    "### Q4 (10 points)\n",
    "\n",
    "Now that you have your data setup, you will be constructing an [SVC](https://scikit-learn.org/stable/modules/generated/sklearn.svm.SVC.html) model on each one of the different datasets. For this exercise default regularization parameter `C` value of 1.0, the default `kernel` type of `rbf`, and the default setting of the kernel coefficient `gamma` for the `rbf` kernel. You should, however, set the `class_weight` to `balanced` when you construct your models. This way the regularization parameter is adjusted for each class in proportion the occurrence of that class in the dataset.\n",
    "\n",
    "You should train the model on your training data, then test it on the testing data with the same set of selected descriptive features. You will then calculate both the TSS and HSS scores and print them out.\n",
    "\n",
    "**Note:** for more information on what the `C` and `gamma` parameters do on the `rbf` kernel see the [RBF SVM parameters](https://scikit-learn.org/stable/auto_examples/svm/plot_rbf_parameters.html) documentation. We won't be tuning these values in this question, but it is genearally accepted that tuning should be done to find the best performing model. "
   ]
  },
  {
   "cell_type": "code",
   "execution_count": 14,
   "id": "6380e199",
   "metadata": {},
   "outputs": [],
   "source": [
    "selected_labels = ['F-Val', 'FromForest','FromLasso']"
   ]
  },
  {
   "cell_type": "code",
   "execution_count": 15,
   "id": "4f99430b",
   "metadata": {},
   "outputs": [
    {
     "name": "stdout",
     "output_type": "stream",
     "text": [
      "F-Val\n",
      "TN=76129\tFP=11027\tFN=76\tTP=1325\n",
      "0.8192327710296818\n",
      "0.1690723900997794\n",
      "FromForest\n",
      "TN=84360\tFP=2796\tFN=572\tTP=829\n",
      "0.5596397923121532\n",
      "0.3142348954946871\n",
      "FromLasso\n",
      "TN=72299\tFP=14857\tFN=62\tTP=1339\n",
      "0.78528144124744\n",
      "0.12675478419969763\n"
     ]
    }
   ],
   "source": [
    "count = 0\n",
    "for x,y in zip(train_list, test_list):\n",
    " \n",
    "    print(selected_labels[count])\n",
    "    count = count+1\n",
    "    \n",
    "    model = SVC(class_weight = 'balanced')\n",
    "    \n",
    "    model.fit(x[0],x[1])\n",
    "    predictions = model.predict(y[0])\n",
    "    \n",
    "    TSS_score =calc_tss(y[1],predictions)\n",
    "    print(TSS_score)\n",
    "    \n",
    "    CSS_score = calc_hss(y[1],predictions)\n",
    "    print(CSS_score)\n",
    "    \n"
   ]
  },
  {
   "cell_type": "markdown",
   "id": "c795526d",
   "metadata": {},
   "source": [
    "---\n",
    "### Q5 (15 points)\n",
    "\n",
    "After training and testing the SVC model on the above dataset, you will likely see that this process is quite time consuming. This is because the algorithm needs evaluate all the instances in the training dataset to find instances that can be used as points in a separating hyperplane between the samples of different classes.  \n",
    "\n",
    "In order to speed this process, lets reduce the number of samples in the dataset through undersampling the classes like we did before. Unlike was done before, where we just pick some random sample of instances in the various classes, we will be performing some data informed under sampling using the [KMeans](https://scikit-learn.org/stable/modules/generated/sklearn.cluster.KMeans.html#sklearn.cluster.KMeans) clustering algorithm.\n",
    "\n",
    "So, what I want you to do is construct a function (I have started it below) that performs the following:\n",
    "\n",
    "* Groups the data by the `lab` column and finds the size of the smallest group.\n",
    "\n",
    "* For every group of samples in the dataset that is not the smallest group, you will use the KMeans algorithm to cluster the samples into `K` clusters. The size of `K` is the size of the smallest group.  **Note:** You need to make sure you are only using the descriptive features when doing this, so drop the label column from each group.\n",
    "\n",
    "* Once you have the `K` clusters, you will get the cluster centers by using the `cluster_centers_` attribute of your Kmeans object. This attribute is a `(n_clusters, n_features)` array of values. These will be the new set of samples of descriptive features for the class you are processing. You should construct a DataFrame with these and add a label column with your class label for each one of these samples.\n",
    "\n",
    "* The samples for the smalles class group from the original dataset will be the samples you return for that class. \n",
    "\n",
    "* You will need to concatenate all of the results into one DataFrame and return it at the end of the function.\n",
    "\n",
    "Once you have completed the function, you need to apply it to each of your three training sets (the ones that have not had the dicotimize process applied, I hope you kept a copy). Then you will apply the dicotomize process to the sampled training sets and place them into a list for use in the next problem.\n",
    "\n",
    "**Note:** By training our models on representations of the real data instead of the acutal measurements, we are building a type of surrogate model. By doing so, we can approximate how our model might behave when trained with the true data, but can test several different settings much faster than what we otherwise would."
   ]
  },
  {
   "cell_type": "code",
   "execution_count": 16,
   "id": "5a8acd49",
   "metadata": {},
   "outputs": [],
   "source": [
    "def perform_under_sample_clust(data:DataFrame)->DataFrame:\n",
    "    NewDf= data.copy()\n",
    "    kNewDf=data.copy() \n",
    "\n",
    "    \n",
    "    \n",
    "    \n",
    "    \n",
    "    \n",
    "    \n",
    "    minv = min(NewDf['lab'].value_counts())\n",
    "\n",
    "    group_size =dict(NewDf['lab'].value_counts())\n",
    "    mingroup=\"\"\n",
    "    for x in group_size.keys():\n",
    "  \n",
    "        if group_size[x] == minv:\n",
    "            mingroup =x\n",
    "    NewDf =NewDf.groupby(['lab']).sample(n=minv)\n",
    "    \n",
    "\n",
    "\n",
    "    listx = data.columns\n",
    "    \n",
    "\n",
    "\n",
    "    for x in set(kNewDf['lab']):\n",
    "        \n",
    "        km_df = kNewDf.loc[kNewDf['lab'] == x]\n",
    "        temp_Df=km_df.drop(['lab'], axis=1)\n",
    "\n",
    "        kmeans = KMeans(n_clusters=minv).fit(temp_Df)\n",
    " \n",
    "       \n",
    "        kNewDf = kNewDf[kNewDf['lab'] != x]\n",
    "        \n",
    "        \n",
    "  \n",
    "        for y in kmeans.cluster_centers_:\n",
    "            #print(y)\n",
    "            listr = list(y)\n",
    "            listr =[x] + listr\n",
    "           \n",
    "            kNewDf.loc[kNewDf.index.max() + 1, :] = listr\n",
    "\n",
    "        \n",
    "\n",
    "    \n",
    "    \n",
    "        \n",
    "    \n",
    "                \n",
    "    NewDf =NewDf.append(kNewDf)\n",
    "\n",
    "    return NewDf\n",
    "\n",
    "\n"
   ]
  },
  {
   "cell_type": "code",
   "execution_count": 17,
   "id": "7147a815",
   "metadata": {},
   "outputs": [],
   "source": [
    "\n",
    "new_etc_train = perform_under_sample_clust(ETC_train_set1)\n",
    "\n",
    "new_df_train = perform_under_sample_clust(df_train_set1)\n",
    "new_ll_train = perform_under_sample_clust(LL_train_set1)\n",
    "\n",
    "new_etc_test =perform_under_sample_clust(ETC_test_set1 )\n",
    "new_df_test =perform_under_sample_clust(df_test_set1)\n",
    "new_ll_test=perform_under_sample_clust(LL_test_set1)\n",
    "\n",
    "train_list = []\n",
    "test_list =[]\n",
    "\n",
    "\n",
    "train_list.append(dichotomize_X_y(new_df_train))\n",
    "train_list.append(dichotomize_X_y(new_etc_train))\n",
    "train_list.append(dichotomize_X_y(new_ll_train)) \n",
    "\n",
    "test_list.append(dichotomize_X_y(new_df_test))\n",
    "test_list.append(dichotomize_X_y(new_etc_test))\n",
    "test_list.append(dichotomize_X_y(new_ll_test))\n",
    "\n",
    "\n",
    "\n",
    "    #----------------------------------------------"
   ]
  },
  {
   "cell_type": "markdown",
   "id": "7050f3ff",
   "metadata": {},
   "source": [
    "---\n",
    "### 6 (10 points)\n",
    "\n",
    "In question 5 we produced datasets that approxumate what our real data looks like. By training our models on these representations of the real data instead of the acutal measurements, we are building a type of surrogate model. In doing so, we can approximate how our model might behave when trained with the true data, but we obtain a major advantage in that we can test several different settings much faster than what we otherwise would if using the true dataset. We can then use these surrogate results to find a range of the hyperparameters that we might wish to investigate using the true input data.\n",
    "\n",
    "For this question, you will again train your models on the three different feature selected data. However, instead of the full partition 1 training datasets, you will be using the sampling with KMeans training datasets you constructed in Q5. \n",
    "\n",
    "You will again be constructing an [SVC](https://scikit-learn.org/stable/modules/generated/sklearn.svm.SVC.html) model on each one of the different datasets. Like before, you should set the `class_weight` to `balanced` when you construct your models. Unlike the previous question where you traind the models, this time you will be asked to evaluate several different settings for the `kernel`, the regularization parameter `C`, and kernel coefficient `gamma`. **Note:** The `gamma` paramter is only utilized on the ‘rbf’, ‘poly’ and ‘sigmoid’ kernels, so there is no reason to evaluate multiple settings for the `linear` kernel. I have listed the settings of each parameter in a code block below. \n",
    "\n",
    "For each of the settings, you should train the model on your training data, then test it on the testing data with the same set of selected descriptive features. You will then calculate both the TSS and HSS scores and print them out."
   ]
  },
  {
   "cell_type": "code",
   "execution_count": 18,
   "id": "eb95f39d",
   "metadata": {},
   "outputs": [],
   "source": [
    "selected_labels = ['F-Val', 'FromForest', 'FromLasso']"
   ]
  },
  {
   "cell_type": "code",
   "execution_count": 19,
   "id": "38d17f3a",
   "metadata": {},
   "outputs": [],
   "source": [
    "kernel = ['linear', 'poly', 'rbf']\n",
    "c_vals = [ 0.5, 1.0]\n",
    "gamma_vals = [0.5, 1, 10]\n",
    "temp = [kernel, c_vals, gamma_vals]\n",
    "params = list(itertools.product(*temp))"
   ]
  },
  {
   "cell_type": "code",
   "execution_count": 20,
   "id": "6f7f0c3c",
   "metadata": {},
   "outputs": [
    {
     "name": "stdout",
     "output_type": "stream",
     "text": [
      "F-Val--------------------------\n",
      "linear\n",
      "TN=335\tFP=97\tFN=35\tTP=253\n",
      "0.6539351851851851\n",
      "0.6312849162011173\n",
      "poly\n",
      "TN=336\tFP=96\tFN=36\tTP=252\n",
      "0.6527777777777778\n",
      "0.6308724832214765\n",
      "rbf\n",
      "TN=333\tFP=99\tFN=42\tTP=246\n",
      "0.625\n",
      "0.6050420168067226\n",
      "FromForest--------------------------\n",
      "linear\n",
      "TN=348\tFP=84\tFN=35\tTP=253\n",
      "0.6840277777777778\n",
      "0.6651660101294317\n",
      "poly\n",
      "TN=407\tFP=25\tFN=197\tTP=91\n",
      "0.25810185185185186\n",
      "0.2866323907455013\n",
      "rbf\n",
      "TN=414\tFP=18\tFN=193\tTP=95\n",
      "0.2881944444444444\n",
      "0.32066967160334836\n",
      "FromLasso--------------------------\n",
      "linear\n",
      "TN=310\tFP=122\tFN=28\tTP=260\n",
      "0.6203703703703705\n",
      "0.5883644346871569\n",
      "poly\n",
      "TN=317\tFP=115\tFN=34\tTP=254\n",
      "0.6157407407407407\n",
      "0.5881702598120508\n",
      "rbf\n",
      "TN=301\tFP=131\tFN=22\tTP=266\n",
      "0.6203703703703705\n",
      "0.5835601524224279\n"
     ]
    }
   ],
   "source": [
    "xcount =0\n",
    "for x,y in zip(train_list, test_list):\n",
    "    print(selected_labels[xcount]+\"--------------------------\")\n",
    "    xcount =xcount +1\n",
    " \n",
    "    count =0\n",
    "    for num in range (3):\n",
    "        if count ==3 :\n",
    "            count = 0\n",
    "        print(kernel[num])\n",
    "        model = SVC(C=c_vals[count] ,kernel=kernel[num] , gamma=gamma_vals[num], class_weight = 'balanced')\n",
    "        model.fit(x[0],x[1])\n",
    "        predictions = model.predict(y[0])\n",
    "        TSS_score =calc_tss(y[1],predictions)\n",
    "        print(TSS_score)\n",
    "        CSS_score = calc_hss(y[1],predictions)\n",
    "        print(CSS_score)\n",
    "    \n",
    "     \n",
    "    \n"
   ]
  },
  {
   "cell_type": "markdown",
   "id": "49462023",
   "metadata": {},
   "source": [
    "---\n",
    "### 7 (10 points)\n",
    "\n",
    "Results above were able to find some combinations of hyperparamters and datasets that work fairly well for our problem. But the question remains, can we do better?\n",
    "\n",
    "Maybe one way to improve our results would be to elinate the easy to classify instances from our dataset and only focus our efforts on the more difficult ones. If you recall from our data preparation there was a feature in our dataset that we could use to easily distinguish between a rather large percentage of `flare` and `non-flare` data. This feature was `R_VALUE_median`, but we don't know what value to use to filter off part of our data.\n",
    "\n",
    "So, for this question, let's plot and see where a good cutoff might be. To do this, let's use the seaborn [ecdfplot](https://seaborn.pydata.org/generated/seaborn.ecdfplot.html#seaborn.ecdfplot) or the cumulative distribution function plot.  Your input will be the original analytics base table of partition one.  You should set the `x` axis to `R_VALUE_median`, and set the `hue` to `lab`.\n",
    "\n",
    "After plotting this, you will see that around 0.5 we begin to see some instances of the `M` and around 0.7 we begin to see some instances of the `X` class flares in our dataset. So, use 0.5 as a threshold value to filter out all of the instances that fall below this threshold from our training data. Construct a copy of the original partition 1 data with this applied.\n",
    "\n",
    "You can then verify this using the seaborn [kdeplot](https://seaborn.pydata.org/generated/seaborn.kdeplot.html#seaborn.kdeplot) using the new filtered data as input, setting `x` to `R_VALUE_median` again, and setting `hue` to `lab` again.  "
   ]
  },
  {
   "cell_type": "code",
   "execution_count": 21,
   "id": "63fb2cb3-7429-46c8-bc44-7d55be80ab70",
   "metadata": {},
   "outputs": [
    {
     "data": {
      "text/plain": [
       "<AxesSubplot:xlabel='R_VALUE_median', ylabel='Proportion'>"
      ]
     },
     "execution_count": 21,
     "metadata": {},
     "output_type": "execute_result"
    },
    {
     "data": {
      "image/png": "[encoded data removed]",
      "text/plain": [
       "<Figure size 432x288 with 1 Axes>"
      ]
     },
     "metadata": {
      "needs_background": "light"
     },
     "output_type": "display_data"
    }
   ],
   "source": [
    "sns.ecdfplot(data=abt, x=\"R_VALUE_median\",hue='lab')\n"
   ]
  },
  {
   "cell_type": "code",
   "execution_count": 22,
   "id": "c0f38a73-97a0-4129-8d2e-5b619a201b13",
   "metadata": {},
   "outputs": [
    {
     "data": {
      "text/plain": [
       "<AxesSubplot:xlabel='R_VALUE_median', ylabel='Density'>"
      ]
     },
     "execution_count": 22,
     "metadata": {},
     "output_type": "execute_result"
    },
    {
     "data": {
      "image/png": "[encoded data removed]",
      "text/plain": [
       "<Figure size 432x288 with 1 Axes>"
      ]
     },
     "metadata": {
      "needs_background": "light"
     },
     "output_type": "display_data"
    }
   ],
   "source": [
    "sns.kdeplot(data=abt,x=\"R_VALUE_median\",hue='lab')"
   ]
  },
  {
   "cell_type": "code",
   "execution_count": 23,
   "id": "c6a482ac-daa7-485c-a6cb-5a9f8f92da39",
   "metadata": {},
   "outputs": [
    {
     "data": {
      "text/plain": [
       "<AxesSubplot:xlabel='R_VALUE_median', ylabel='Proportion'>"
      ]
     },
     "execution_count": 23,
     "metadata": {},
     "output_type": "execute_result"
    },
    {
     "data": {
      "image/png": "[encoded data removed]",
      "text/plain": [
       "<Figure size 432x288 with 1 Axes>"
      ]
     },
     "metadata": {
      "needs_background": "light"
     },
     "output_type": "display_data"
    }
   ],
   "source": [
    "filt_NewDf = abt[abt['R_VALUE_median'] >.5].copy()\n",
    "sns.ecdfplot(data=filt_NewDf , x=\"R_VALUE_median\",hue='lab')"
   ]
  },
  {
   "cell_type": "code",
   "execution_count": 24,
   "id": "5e056c07-4160-453c-a216-f811ec4e22b3",
   "metadata": {},
   "outputs": [
    {
     "data": {
      "text/plain": [
       "<AxesSubplot:xlabel='R_VALUE_median', ylabel='Density'>"
      ]
     },
     "execution_count": 24,
     "metadata": {},
     "output_type": "execute_result"
    },
    {
     "data": {
      "image/png": "[encoded data removed]",
      "text/plain": [
       "<Figure size 432x288 with 1 Axes>"
      ]
     },
     "metadata": {
      "needs_background": "light"
     },
     "output_type": "display_data"
    }
   ],
   "source": [
    "\n",
    "sns.kdeplot(data=filt_NewDf,x=\"R_VALUE_median\",hue='lab')"
   ]
  },
  {
   "cell_type": "code",
   "execution_count": null,
   "id": "daa96804-4de7-4a58-a24e-299cc4028ad5",
   "metadata": {},
   "outputs": [],
   "source": []
  },
  {
   "cell_type": "markdown",
   "id": "33c0dba1",
   "metadata": {},
   "source": [
    "---\n",
    "### 8 (10 points)\n",
    "\n",
    "For this question, you will utilize the filtered analytics base table you constructed in the previous question.  You should:\n",
    "\n",
    "* Repeat the feature selection I did for you in the  example using the [SelectKBest](https://scikit-learn.org/stable/modules/generated/sklearn.feature_selection.SelectKBest.html#sklearn.feature_selection.SelectKBest) class from [scikit-learn Univariate Feature Selection](https://scikit-learn.org/stable/modules/feature_selection.html#univariate-feature-selection), and scoring function [scikit-learn f_classif](https://scikit-learn.org/stable/modules/generated/sklearn.feature_selection.f_classif.html#sklearn.feature_selection.f_classif).\n",
    "\n",
    "* Repeat the feature selection from Q1 using the [SelectFromModel](https://scikit-learn.org/stable/modules/generated/sklearn.feature_selection.SelectFromModel.html#sklearn.feature_selection.SelectFromModel) class from [scikit-learn Univariate Feature Selection](https://scikit-learn.org/stable/modules/feature_selection.html#univariate-feature-selection), and utilizing the [LassoLars](https://scikit-learn.org/stable/modules/generated/sklearn.linear_model.LassoLars.html#sklearn.linear_model.LassoLars) as your `estimator`.  You should also set the `max_features` to the number of features we are going to select (20 features).\n",
    "\n",
    "* Repeat the feature selection from Q2 using [SelectFromModel](https://scikit-learn.org/stable/modules/generated/sklearn.feature_selection.SelectFromModel.html#sklearn.feature_selection.SelectFromModel) class from [scikit-learn Univariate Feature Selection](https://scikit-learn.org/stable/modules/feature_selection.html#univariate-feature-selection). With a random forest model called [ExtraTressClssifier](https://scikit-learn.org/stable/modules/generated/sklearn.ensemble.ExtraTreesClassifier.html#sklearn.ensemble.ExtraTreesClassifier) as the `estimator`. The `n_estimators` of the random forest algorithm should be set to `75` when you construct it. The `max_features` of the SelectFromModel should be set to the number of features we are going to select (20 features)."
   ]
  },
  {
   "cell_type": "code",
   "execution_count": 25,
   "id": "15d0f0b0",
   "metadata": {},
   "outputs": [],
   "source": [
    "filt_NewDf\n",
    "\n",
    "numFeat = 20\n",
    "\n",
    "# Split the target and descriptive features for Partition 1 into two \n",
    "# different DataFrame objects\n",
    "df_labels = filt_NewDf['lab'].copy()\n",
    "\n",
    "df_feats = filt_NewDf.copy().drop(['lab'], axis=1)\n",
    "\n",
    "# Split the target and descriptive features for Partition 2 inot two\n",
    "# different DataFrame Objects\n",
    "df_test_labels = abt2['lab'].copy()\n",
    "df_test_feats = abt2.copy().drop(['lab'], axis=1)\n",
    "\n",
    "# Do feature selection\n",
    "feats1 = SelectKBest(f_classif, k=numFeat).fit(df_feats, df_labels)\n",
    "\n",
    "# Construct a training dataset from Partition 1 with only the selected descriptive \n",
    "# features and the target feature\n",
    "df_selected_feats1 = df_feats.loc[:, feats1.get_support()]\n",
    "\n",
    "df_train_set1 = pd.concat([df_labels, df_selected_feats1], axis=1)\n",
    "\n",
    "\n",
    "# Construct a testing dataset from Partition 2 with only the selected descriptive\n",
    "# features and the target feature\n",
    "df_test_selected_feats1 = df_test_feats.loc[:, feats1.get_support()]\n",
    "df_test_set1 = pd.concat([df_test_labels, df_test_selected_feats1], axis=1)\n",
    "\n",
    "\n",
    "#----------------------------------------------\n",
    "    # TODO: Complete here.\n",
    "    #----------------------------------------------\n",
    "    \n",
    "\n",
    "#print(LL_test_set1)\n",
    "\n",
    "\n",
    "\n",
    "\n",
    "\n",
    "LL_labels= filt_NewDf['lab'].map({'NF':0, 'B':0, 'C':0, 'M':1, 'X':1})\n",
    "\n",
    "\n",
    "\n",
    "\n",
    "LL_feats =filt_NewDf.drop(['lab'], axis=1)\n",
    "\n",
    "\n",
    "\n",
    "\n",
    "\n",
    "\n",
    "\n",
    "LL_feats1 = SelectFromModel(estimator=LassoLars(),max_features=numFeat,threshold=-np.inf).fit( LL_feats,LL_labels)\n",
    "#print(LL_feats1.get_support())\n",
    "\n",
    "\n",
    "\n",
    "LL_selected_feats1 = LL_feats.loc[:, LL_feats1.get_support()]\n",
    "#LL_selected_feats1.replace([np.inf, -np.inf,np.nan], .1, inplace=True)\n",
    "LL_train_set1 = pd.concat([abt['lab'], LL_selected_feats1], axis=1,join='inner')\n",
    "\n",
    "\n",
    "LL_test_labels = abt2['lab'].map({'NF':0, 'B':0, 'C':0, 'M':1, 'X':1})\n",
    "\n",
    "LL_test_feats = abt2.drop(['lab'], axis =1)\n",
    "\n",
    "\n",
    "\n",
    "LL_test_selected_feats1 = LL_test_feats.iloc[:, LL_feats1.get_support(indices=True)]\n",
    "#lasso_test =  LL_feats.loc[:, LL_feats1.get_support()]\n",
    "\n",
    "LL_test_set1 = pd.concat([abt2['lab'], LL_test_selected_feats1], axis=1,join='inner') \n",
    "\n",
    "\n",
    "\n",
    "\n",
    "    \n",
    "#--------\n",
    "\n",
    "# Split the target and descriptive features for Partition 1 into two \n",
    "# different DataFrame objects\n",
    "ETC_labels = filt_NewDf['lab'].copy()\n",
    "\n",
    "ETC_feats = filt_NewDf.copy().drop(['lab'], axis=1)\n",
    "\n",
    "\n",
    "\n",
    "# Split the target and descriptive features for Partition 2 inot two\n",
    "# different DataFrame Objects\n",
    "ETC_test_labels = abt2['lab'].copy()\n",
    "ETC_test_feats = abt2.copy().drop(['lab'], axis=1)\n",
    "\n",
    "# Do feature selection\n",
    "ETC_feats1 = SelectFromModel(estimator= ExtraTreesClassifier(n_estimators =75),max_features=numFeat).fit(ETC_feats, ETC_labels)\n",
    "\n",
    "# Construct a training dataset from Partition 1 with only the selected descriptive \n",
    "# features and the target feature\n",
    "\n",
    "ETC_selected_feats1 = ETC_feats.iloc[:, ETC_feats1.get_support(indices=True)]\n",
    "ETC_train_set1 = pd.concat([ETC_labels, ETC_selected_feats1], axis=1)\n",
    "\n",
    "\n",
    "\n",
    "\n",
    "# Construct a testing dataset from Partition 2 with only the selected descriptive\n",
    "# features and the target feature\n",
    "ETC_test_selected_feats1 = ETC_test_feats.iloc[:, ETC_feats1.get_support(indices=True)]\n",
    "ETC_test_set1 = pd.concat([ETC_test_labels, ETC_test_selected_feats1], axis=1)\n",
    "\n",
    "\n"
   ]
  },
  {
   "cell_type": "markdown",
   "id": "5dbd0bc8",
   "metadata": {},
   "source": [
    "---\n",
    "### Q9 (10 points)\n",
    "\n",
    "Using the training and testing datsets you constructed in the previous question after performing feature selection on the filtered partition 1 analytics base table. You now need to perform the sampling on the training data using the function you made in Q5.\n",
    "\n",
    "Then you should convert each of the new training and testing datasets to a binary classification problem datase or dichotomize the training and testing data like you did in Q3. Lucky for you, a method has already been provided to do this. All you need to do is apply it to teach of the `DataFrame`s you constructed with the feature selected training and testing data.\n",
    "\n",
    "**Note:** You might want to put the training and testing tuples you get from the call to the dichotomize method into seperate training and testing lists. Then you can loop over them later. \n"
   ]
  },
  {
   "cell_type": "code",
   "execution_count": 26,
   "id": "d32a2af6",
   "metadata": {},
   "outputs": [],
   "source": [
    "new_etc_train = perform_under_sample_clust(ETC_train_set1)\n",
    "new_df_train = perform_under_sample_clust(df_train_set1)\n",
    "new_ll_train = perform_under_sample_clust(LL_train_set1)\n",
    "\n",
    "new_etc_test =perform_under_sample_clust(ETC_test_set1 )\n",
    "new_df_test =perform_under_sample_clust(df_test_set1)\n",
    "new_ll_test=perform_under_sample_clust(LL_test_set1)\n",
    "\n",
    "train_list = []\n",
    "test_list =[]\n",
    "\n",
    "\n",
    "train_list.append(dichotomize_X_y(new_df_train))\n",
    "train_list.append(dichotomize_X_y(new_ll_train))\n",
    "\n",
    "train_list.append(dichotomize_X_y(new_etc_train))\n",
    "\n",
    "test_list.append(dichotomize_X_y(new_df_test))\n",
    "test_list.append(dichotomize_X_y(new_ll_test))\n",
    "\n",
    "\n",
    "test_list.append(dichotomize_X_y(new_etc_test))\n",
    "\n",
    "\n",
    "\n"
   ]
  },
  {
   "cell_type": "markdown",
   "id": "33dab10a",
   "metadata": {},
   "source": [
    "---\n",
    "### Q10 (20 points)\n",
    "\n",
    "Like in Q6, this question will be utilizing the filtered and sampled datasets constructed in the previous question. For this question, you will again train your models on the three different feature selected data that had the instances below our thrshold filtered out and then had sampling by clustering performed on them. \n",
    "\n",
    "You will again be constructing an [SVC](https://scikit-learn.org/stable/modules/generated/sklearn.svm.SVC.html) model on each one of the different datasets. Like before, you should set the `class_weight` to `balanced` when you construct your models. You will again evaluate several different settings for the `kernel`, the regularization parameter `C`, and kernel coefficient `gamma`. **Note:** The `gamma` paramter is only utilized on the ‘rbf’, ‘poly’ and ‘sigmoid’ kernels, so there is no reason to evaluate multiple settings for the `linear` kernel. I have listed the settings of each parameter in a code block below. \n",
    "\n",
    "For each of the settings, you should train the model on your training data, then test it on the testing data with the same set of selected descriptive features. You will then calculate both the TSS and HSS scores and print them out. **Note:** The testing data has the samples in it that are below our threshold value, so you will first need to filter those out of the data you plan to pass to your model for testing. However, you still want those instances included in the calculation of the TSS and HSSS. So, your groud truth `lab` data should include all the instances in partition 2. You will need to concatenate a vector with all zeros in it to the match the labels you partitioned from the model testing data. \n",
    "\n",
    "Let's give you a representation of that:\n",
    "    \n",
    "    labels_from_data = [labels for samples > threshold] + [labels for samples <= threshold]\n",
    "    predict_labels = [labels from the model on > thrshold samples] + [0s the length of samples <= threshold]\n",
    "\n"
   ]
  },
  {
   "cell_type": "code",
   "execution_count": 27,
   "id": "6bb4c0d6",
   "metadata": {},
   "outputs": [],
   "source": [
    "thresh = 0.5\n",
    "selected_labels = ['F-Val', 'FromForest', 'FromLasso']\n",
    "kernel = ['linear', 'poly', 'rbf']\n",
    "c_vals = [ 0.5, 1.0]\n",
    "gamma_vals = [0.5, 1, 10]\n",
    "temp = [kernel, c_vals, gamma_vals]\n",
    "params = list(itertools.product(*temp))"
   ]
  },
  {
   "cell_type": "code",
   "execution_count": 28,
   "id": "22707ff9",
   "metadata": {},
   "outputs": [
    {
     "name": "stdout",
     "output_type": "stream",
     "text": [
      "F-Val--------------------------\n",
      "linear\n",
      "TN=346\tFP=86\tFN=34\tTP=254\n",
      "0.6828703703703703\n",
      "0.6629213483146067\n",
      "poly\n",
      "TN=359\tFP=73\tFN=85\tTP=203\n",
      "0.5358796296296297\n",
      "0.5396270396270396\n",
      "rbf\n",
      "TN=340\tFP=92\tFN=42\tTP=246\n",
      "0.6412037037037037\n",
      "0.6231721034870641\n",
      "FromForest--------------------------\n",
      "linear\n",
      "TN=345\tFP=87\tFN=35\tTP=253\n",
      "0.6770833333333333\n",
      "0.6573033707865169\n",
      "poly\n",
      "TN=348\tFP=84\tFN=41\tTP=247\n",
      "0.6631944444444444\n",
      "0.6470920383963862\n",
      "rbf\n",
      "TN=330\tFP=102\tFN=28\tTP=260\n",
      "0.6666666666666667\n",
      "0.6392896781354052\n",
      "FromLasso--------------------------\n",
      "linear\n",
      "TN=389\tFP=43\tFN=65\tTP=223\n",
      "0.6747685185185186\n",
      "0.6834701055099648\n",
      "poly\n",
      "TN=405\tFP=27\tFN=222\tTP=66\n",
      "0.16666666666666666\n",
      "0.18786692759295498\n",
      "rbf\n",
      "TN=400\tFP=32\tFN=142\tTP=146\n",
      "0.43287037037037035\n",
      "0.4622991347342398\n"
     ]
    }
   ],
   "source": [
    "\n",
    "xcount = 0\n",
    "for x,y in zip(train_list, test_list):\n",
    "    print(selected_labels[xcount]+\"--------------------------\")\n",
    "    xcount =xcount +1\n",
    "    \n",
    "    #print(x[0])\n",
    "    #print(y)\n",
    "    count =0\n",
    "    for num in range (3):\n",
    "        if count ==3 :\n",
    "            count = 0\n",
    "        print(kernel[num])\n",
    "        model = SVC(C=c_vals[count] ,kernel=kernel[num] , gamma=gamma_vals[num], class_weight = 'balanced')\n",
    "        model.fit(x[0],x[1])\n",
    "        predictions = model.predict(y[0])\n",
    "        TSS_score =calc_tss(y[1],predictions)\n",
    "        print(TSS_score)\n",
    "        CSS_score = calc_hss(y[1],predictions)\n",
    "        print(CSS_score)\n",
    "    \n"
   ]
  },
  {
   "cell_type": "markdown",
   "id": "6ee068b2",
   "metadata": {},
   "source": [
    "All of these results are getting unruely, we should maybe be saving them to do analysis on them too? Maybe I'll ask you to do that for the extra credit assignment."
   ]
  }
 ],
 "metadata": {
  "kernelspec": {
   "display_name": "Python 3",
   "language": "python",
   "name": "python3"
  },
  "language_info": {
   "codemirror_mode": {
    "name": "ipython",
    "version": 3
   },
   "file_extension": ".py",
   "mimetype": "text/x-python",
   "name": "python",
   "nbconvert_exporter": "python",
   "pygments_lexer": "ipython3",
   "version": "3.8.8"
  }
 },
 "nbformat": 4,
 "nbformat_minor": 5
}
